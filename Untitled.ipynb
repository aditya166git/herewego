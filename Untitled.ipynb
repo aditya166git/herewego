{
 "cells": [
  {
   "cell_type": "code",
   "execution_count": 16,
   "metadata": {},
   "outputs": [],
   "source": [
    "#Import sqlite\n",
    "import sqlite3"
   ]
  },
  {
   "cell_type": "code",
   "execution_count": 17,
   "metadata": {},
   "outputs": [],
   "source": [
    "#import DB\n",
    "db=sqlite3.connect(\"herewegoDB.db\")"
   ]
  },
  {
   "cell_type": "code",
   "execution_count": 18,
   "metadata": {},
   "outputs": [],
   "source": [
    "#create cursor\n",
    "cursor = db.cursor()"
   ]
  },
  {
   "cell_type": "code",
   "execution_count": 22,
   "metadata": {},
   "outputs": [
    {
     "ename": "OperationalError",
     "evalue": "no such table: venues",
     "output_type": "error",
     "traceback": [
      "\u001b[0;31m---------------------------------------------------------------------------\u001b[0m",
      "\u001b[0;31mOperationalError\u001b[0m                          Traceback (most recent call last)",
      "\u001b[0;32m<ipython-input-22-756c2f15e422>\u001b[0m in \u001b[0;36m<module>\u001b[0;34m\u001b[0m\n\u001b[0;32m----> 1\u001b[0;31m \u001b[0mcursor\u001b[0m\u001b[0;34m.\u001b[0m\u001b[0mexecute\u001b[0m\u001b[0;34m(\u001b[0m\u001b[0;34m'''DROP TABLE venues'''\u001b[0m\u001b[0;34m)\u001b[0m\u001b[0;34m\u001b[0m\u001b[0;34m\u001b[0m\u001b[0m\n\u001b[0m\u001b[1;32m      2\u001b[0m \u001b[0mcursor\u001b[0m\u001b[0;34m.\u001b[0m\u001b[0mexecute\u001b[0m\u001b[0;34m(\u001b[0m\u001b[0;34m'''DROP TABLE events'''\u001b[0m\u001b[0;34m)\u001b[0m\u001b[0;34m\u001b[0m\u001b[0;34m\u001b[0m\u001b[0m\n\u001b[1;32m      3\u001b[0m \u001b[0mcursor\u001b[0m\u001b[0;34m.\u001b[0m\u001b[0mexecute\u001b[0m\u001b[0;34m(\u001b[0m\u001b[0;34m'''DROP TABLE user_events'''\u001b[0m\u001b[0;34m)\u001b[0m\u001b[0;34m\u001b[0m\u001b[0;34m\u001b[0m\u001b[0m\n\u001b[1;32m      4\u001b[0m \u001b[0mcursor\u001b[0m\u001b[0;34m.\u001b[0m\u001b[0mexecute\u001b[0m\u001b[0;34m(\u001b[0m\u001b[0;34m'''DROP TABLE venue_calendar'''\u001b[0m\u001b[0;34m)\u001b[0m\u001b[0;34m\u001b[0m\u001b[0;34m\u001b[0m\u001b[0m\n\u001b[1;32m      5\u001b[0m \u001b[0mcursor\u001b[0m\u001b[0;34m.\u001b[0m\u001b[0mexecute\u001b[0m\u001b[0;34m(\u001b[0m\u001b[0;34m'''DROP TABLE users'''\u001b[0m\u001b[0;34m)\u001b[0m\u001b[0;34m\u001b[0m\u001b[0;34m\u001b[0m\u001b[0m\n",
      "\u001b[0;31mOperationalError\u001b[0m: no such table: venues"
     ]
    }
   ],
   "source": [
    "cursor.execute('''DROP TABLE venues''')\n",
    "cursor.execute('''DROP TABLE events''')\n",
    "cursor.execute('''DROP TABLE user_events''')\n",
    "cursor.execute('''DROP TABLE venue_calendar''')\n",
    "cursor.execute('''DROP TABLE users''')"
   ]
  },
  {
   "cell_type": "code",
   "execution_count": 23,
   "metadata": {},
   "outputs": [
    {
     "ename": "OperationalError",
     "evalue": "table \"events\" already exists",
     "output_type": "error",
     "traceback": [
      "\u001b[0;31m---------------------------------------------------------------------------\u001b[0m",
      "\u001b[0;31mOperationalError\u001b[0m                          Traceback (most recent call last)",
      "\u001b[0;32m<ipython-input-23-0b7e85fd19a5>\u001b[0m in \u001b[0;36m<module>\u001b[0;34m\u001b[0m\n\u001b[1;32m     14\u001b[0m         \u001b[0mFOREIGN\u001b[0m \u001b[0mKEY\u001b[0m\u001b[0;34m(\u001b[0m\u001b[0;34m\"venue_id\"\u001b[0m\u001b[0;34m)\u001b[0m \u001b[0mREFERENCES\u001b[0m \u001b[0;34m\"venues\"\u001b[0m\u001b[0;34m(\u001b[0m\u001b[0;34m\"venue_id\"\u001b[0m\u001b[0;34m)\u001b[0m\u001b[0;34m\u001b[0m\u001b[0;34m\u001b[0m\u001b[0m\n\u001b[1;32m     15\u001b[0m )\n\u001b[0;32m---> 16\u001b[0;31m ''')\n\u001b[0m",
      "\u001b[0;31mOperationalError\u001b[0m: table \"events\" already exists"
     ]
    }
   ],
   "source": [
    "#create events table\n",
    "cursor.execute('''\n",
    "CREATE TABLE \"events\" (\n",
    "\t\"event_id\"\tINTEGER NOT NULL PRIMARY KEY AUTOINCREMENT,\n",
    "\t\"event_name\"\tTEXT NOT NULL,\n",
    "\t\"event_city\"\tTEXT NOT NULL,\n",
    "\t\"event_type\"\tTEXT,\n",
    "\t\"event_start\"\tTEXT NOT NULL,\n",
    "\t\"event_end\"\tTEXT,\n",
    "\t\"event_capacity\"\tINTEGER NOT NULL,\n",
    "\t\"venue_id\"\tINTEGER NOT NULL,\n",
    "\t\"creation_date\"\tTEXT NOT NULL, \n",
    "    user_id INTEGER,\n",
    "\tFOREIGN KEY(\"venue_id\") REFERENCES \"venues\"(\"venue_id\")\n",
    ")\n",
    "''')"
   ]
  },
  {
   "cell_type": "code",
   "execution_count": 24,
   "metadata": {},
   "outputs": [
    {
     "data": {
      "text/plain": [
       "<sqlite3.Cursor at 0x1049b8810>"
      ]
     },
     "execution_count": 24,
     "metadata": {},
     "output_type": "execute_result"
    }
   ],
   "source": [
    "#create users table\n",
    "cursor.execute('''\n",
    "CREATE TABLE \"users\" (\n",
    "\t\"user_id\"\tINTEGER NOT NULL PRIMARY KEY AUTOINCREMENT,\n",
    "\t\"first_name\"\tTEXT NOT NULL,\n",
    "\t\"last_name\"\tTEXT NOT NULL,\n",
    "\t\"dob\"\tTEXT,\n",
    "\t\"email\"\tTEXT NOT NULL,\n",
    "\t\"user_role\"\tTEXT NOT NULL,\n",
    "\t\"user_phone\"\tTEXT,\n",
    "\t\"creation_date\"\tTEXT NOT NULL,\n",
    "    \"username\" TEXT NOT NULL UNIQUE)\n",
    "''')"
   ]
  },
  {
   "cell_type": "code",
   "execution_count": 25,
   "metadata": {},
   "outputs": [
    {
     "data": {
      "text/plain": [
       "<sqlite3.Cursor at 0x1049b8810>"
      ]
     },
     "execution_count": 25,
     "metadata": {},
     "output_type": "execute_result"
    }
   ],
   "source": [
    "#create venues table\n",
    "cursor.execute('''\n",
    "CREATE TABLE \"venues\" (\n",
    "\t\"venue_id\"\tINTEGER NOT NULL PRIMARY KEY AUTOINCREMENT,\n",
    "\t\"venue_name\"\tTEXT NOT NULL,\n",
    "\t\"venue_open\"\tdate,\n",
    "\t\"venue_close\"\tdate,\n",
    "\t\"zip_code\"\tTEXT NOT NULL,\n",
    "\t\"city\"\tTEXT,\n",
    "\t\"address\"\tTEXT NOT NULL\n",
    ")\n",
    "''')"
   ]
  },
  {
   "cell_type": "code",
   "execution_count": 26,
   "metadata": {},
   "outputs": [
    {
     "data": {
      "text/plain": [
       "<sqlite3.Cursor at 0x1049b8810>"
      ]
     },
     "execution_count": 26,
     "metadata": {},
     "output_type": "execute_result"
    }
   ],
   "source": [
    "#create user events table\n",
    "cursor.execute('''CREATE TABLE \"user_events\" (\n",
    "\t\"user_id\"\tINTEGER NOT NULL,\n",
    "\t\"event_id\"\tINTEGER NOT NULL,\n",
    "\tFOREIGN KEY(\"user_id\") REFERENCES \"users\"(\"user_id\"),\n",
    "\tFOREIGN KEY(\"event_id\") REFERENCES \"events\"(\"event_id\"),\n",
    "\tPRIMARY KEY(\"user_id\",\"event_id\")\n",
    ")\n",
    "''')"
   ]
  },
  {
   "cell_type": "code",
   "execution_count": 27,
   "metadata": {},
   "outputs": [
    {
     "data": {
      "text/plain": [
       "<sqlite3.Cursor at 0x1049b8810>"
      ]
     },
     "execution_count": 27,
     "metadata": {},
     "output_type": "execute_result"
    }
   ],
   "source": [
    "#create venue calendar\n",
    "cursor.execute('''CREATE TABLE venue_calendar (\n",
    "  venue_id INTEGER NOT NULL,\n",
    "  venue_date TEXT  NOT NULL,\n",
    "  slot_start TEXT  NOT NULL,\n",
    "  slot_end   TEXT  NOT NULL,\n",
    "  is_available TEXT NOT NULL,\n",
    "  CONSTRAINT fk_column\n",
    "    FOREIGN KEY (\"venue_id\")\n",
    "    REFERENCES \"venues\"(\"venue_id\")\n",
    ")\n",
    "''')"
   ]
  },
  {
   "cell_type": "code",
   "execution_count": 29,
   "metadata": {},
   "outputs": [],
   "source": [
    "db.commit()"
   ]
  },
  {
   "cell_type": "code",
   "execution_count": 91,
   "metadata": {},
   "outputs": [],
   "source": [
    "#determines the role of a user provided user is in the database\n",
    "def get_user_role(username):\n",
    "\trole = \"\"\n",
    "\tcursor.execute('''\n",
    "\t\tSELECT user_role FROM users\n",
    "\t\tWHERE username = ?\n",
    "\t\t''',\n",
    "\t\t(username,)\n",
    "\t\t)\n",
    "\trole = cursor.fetchone()\n",
    "\tif role is None:\n",
    "\t\treturn \"User '%s' is not found or user does not have a role\" %username\n",
    "\telse:\n",
    "\t\treturn role[0]"
   ]
  },
  {
   "cell_type": "code",
   "execution_count": 92,
   "metadata": {},
   "outputs": [
    {
     "data": {
      "text/plain": [
       "'admin'"
      ]
     },
     "execution_count": 92,
     "metadata": {},
     "output_type": "execute_result"
    }
   ],
   "source": [
    "get_user_role(\"darasimi\")"
   ]
  },
  {
   "cell_type": "code",
   "execution_count": 69,
   "metadata": {},
   "outputs": [],
   "source": [
    "def change_event_capacity(event_name,capacity):\n",
    "\tcursor.execute('''\n",
    "\t\t\tUPDATE events SET event_capacity = ?\n",
    "\t\t\tWHERE event_name = ?\n",
    "\t\t''', (capacity,event_name))\n",
    "\tdb.commit()\n",
    "\tcursor.execute('''\n",
    "\t\t\t\t\tSELECT event_name, event_capacity \n",
    "\t\t\t\t\tFROM events WHERE event_name=?''', (event_name,))\n",
    "\tevent_detail = cursor.fetchone()\n",
    "\tif event_detail is None:\n",
    "\t\treturn \"Event name '%s' has not been created. Please ensure the right event has been entered or created and try again\" %event_name\n",
    "\telse:\n",
    "\t\treturn event_detail"
   ]
  },
  {
   "cell_type": "code",
   "execution_count": 76,
   "metadata": {},
   "outputs": [
    {
     "data": {
      "text/plain": [
       "\"Event name 'singings' has not been created. Please ensure the right event has been entered or created and try again\""
      ]
     },
     "execution_count": 76,
     "metadata": {},
     "output_type": "execute_result"
    }
   ],
   "source": [
    "change_event_capacity(\"singings\",6)"
   ]
  },
  {
   "cell_type": "code",
   "execution_count": 77,
   "metadata": {},
   "outputs": [],
   "source": [
    "import datetime"
   ]
  },
  {
   "cell_type": "code",
   "execution_count": 109,
   "metadata": {},
   "outputs": [],
   "source": [
    "def add_user(user_account,user_id,first_name,last_name,age,email,user_role,user_phone,user_name):\n",
    "\ttry:\t\t\n",
    "\t\tcreation_date = datetime.datetime.now().strftime(\"%Y-%m-%d\")\n",
    "\t\tprint(get_user_role(user_account))\n",
    "\t\tif get_user_role(user_account) != 'admin':\n",
    "\t\t\treturn \"User %s doesn't exist or does not have appropriate permission to add other users\" %user_account\n",
    "\t\telse:\n",
    "\t\t\tcursor.execute('''\n",
    "\t\t\t\t\t\t\tINSERT INTO users\n",
    "\t\t\t\t\t\t\tVALUES(?,?,?,?,?,?,?,?,?)\n",
    "\t\t\t\t''',(user_id,first_name,last_name,age,email,user_role,user_phone,creation_date,user_name)\n",
    "\t\t\t\t)\n",
    "\t\t\tdb.commit()\n",
    "\t\t\tcursor.execute('''\n",
    "\t\t\t\t\t\t\tSELECT * FROM users\n",
    "\t\t\t\t''')\n",
    "\t\t\tusers = cursor.fetchall()\n",
    "\t\t\tfor user in users:\n",
    "\t\t\t\tprint(user)\n",
    "\texcept sqlite3.Error as e:\n",
    "\t\tprint(\"Error {\" + e.args[0] + \"}\") "
   ]
  },
  {
   "cell_type": "code",
   "execution_count": 110,
   "metadata": {},
   "outputs": [
    {
     "name": "stdout",
     "output_type": "stream",
     "text": [
      "admin\n",
      "(1, 'Aditya', 'Shetty', '2001-01-01', 'aditya@gmail.com', 'admin', '2179798071', '2019-07-25', 'aditya')\n",
      "(2, 'Darasimi', 'Oluwaniyi', '2001-01-01', 'aditya@gmail.com', 'admin', '2179798071', '2019-07-25', 'darasimi')\n",
      "(3, 'Jane', 'Doe', '2001-01-01', 'aditya@gmail.com', 'user', '2179798071', '2019-07-25', 'jane')\n",
      "(4, 'John', 'Doe', '2001-01-01', 'aditya@gmail.com', 'user', '2179798071', '2019-07-25', 'john')\n",
      "(5, 'jon', 'snow', 25, 'jon.snow@got.com', 'user', '21597648', '2019-07-25', 'stevendara')\n",
      "(8, 'jon', 'snow', 25, 'jon.snow@got.com', 'user', '21597648', '2019-07-25 09:02:15.432258', 'stevendar')\n"
     ]
    }
   ],
   "source": [
    "add_user(\"darasimi\",5,\"jon\",\"snow\",25,\"jon.snow@got.com\",\"user\",\"21597648\",\"stevendara\")"
   ]
  },
  {
   "cell_type": "code",
   "execution_count": null,
   "metadata": {},
   "outputs": [],
   "source": []
  }
 ],
 "metadata": {
  "kernelspec": {
   "display_name": "Python 3",
   "language": "python",
   "name": "python3"
  },
  "language_info": {
   "codemirror_mode": {
    "name": "ipython",
    "version": 3
   },
   "file_extension": ".py",
   "mimetype": "text/x-python",
   "name": "python",
   "nbconvert_exporter": "python",
   "pygments_lexer": "ipython3",
   "version": "3.7.3"
  }
 },
 "nbformat": 4,
 "nbformat_minor": 2
}
