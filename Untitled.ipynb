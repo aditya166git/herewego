{
 "cells": [
  {
   "cell_type": "code",
   "execution_count": 1,
   "metadata": {},
   "outputs": [],
   "source": [
    "#Import sqlite\n",
    "import sqlite3"
   ]
  },
  {
   "cell_type": "code",
   "execution_count": 2,
   "metadata": {},
   "outputs": [],
   "source": [
    "#import DB\n",
    "db=sqlite3.connect(\"herewegoDB.db\")"
   ]
  },
  {
   "cell_type": "code",
   "execution_count": 3,
   "metadata": {},
   "outputs": [],
   "source": [
    "#create cursor\n",
    "cursor = db.cursor()"
   ]
  },
  {
   "cell_type": "code",
   "execution_count": 4,
   "metadata": {},
   "outputs": [
    {
     "data": {
      "text/plain": [
       "<sqlite3.Cursor at 0x10defbea0>"
      ]
     },
     "execution_count": 4,
     "metadata": {},
     "output_type": "execute_result"
    }
   ],
   "source": [
    "cursor.execute('''DROP TABLE users''')\n"
   ]
  },
  {
   "cell_type": "code",
   "execution_count": 5,
   "metadata": {},
   "outputs": [
    {
     "data": {
      "text/plain": [
       "<sqlite3.Cursor at 0x10defbea0>"
      ]
     },
     "execution_count": 5,
     "metadata": {},
     "output_type": "execute_result"
    }
   ],
   "source": [
    "cursor.execute('''DROP TABLE venues''')\n",
    "cursor.execute('''DROP TABLE events''')\n",
    "cursor.execute('''DROP TABLE user_events''')"
   ]
  },
  {
   "cell_type": "code",
   "execution_count": 6,
   "metadata": {},
   "outputs": [
    {
     "data": {
      "text/plain": [
       "<sqlite3.Cursor at 0x10defbea0>"
      ]
     },
     "execution_count": 6,
     "metadata": {},
     "output_type": "execute_result"
    }
   ],
   "source": [
    "#create events table\n",
    "cursor.execute('''\n",
    "CREATE TABLE \"events\" (\n",
    "\t\"event_id\"\tINTEGER NOT NULL PRIMARY KEY AUTOINCREMENT,\n",
    "\t\"event_name\"\tTEXT NOT NULL,\n",
    "\t\"event_city\"\tTEXT NOT NULL,\n",
    "\t\"event_type\"\tTEXT,\n",
    "\t\"event_start\"\tTEXT NOT NULL,\n",
    "\t\"event_end\"\tTEXT,\n",
    "\t\"event_capacity\"\tTEXT NOT NULL,\n",
    "\t\"venue_id\"\tINTEGER NOT NULL,\n",
    "\t\"creation_date\"\tTEXT NOT NULL,\n",
    "\tFOREIGN KEY(\"venue_id\") REFERENCES \"venue\"(\"venue_id\")\n",
    ")\n",
    "''')"
   ]
  },
  {
   "cell_type": "code",
   "execution_count": 7,
   "metadata": {},
   "outputs": [
    {
     "data": {
      "text/plain": [
       "<sqlite3.Cursor at 0x10defbea0>"
      ]
     },
     "execution_count": 7,
     "metadata": {},
     "output_type": "execute_result"
    }
   ],
   "source": [
    "#create users table\n",
    "cursor.execute('''\n",
    "CREATE TABLE \"users\" (\n",
    "\t\"user_id\"\tINTEGER NOT NULL PRIMARY KEY AUTOINCREMENT,\n",
    "\t\"first_name\"\tTEXT NOT NULL,\n",
    "\t\"last_name\"\tTEXT NOT NULL,\n",
    "\t\"dob\"\tTEXT,\n",
    "\t\"email\"\tTEXT NOT NULL,\n",
    "\t\"user_role\"\tTEXT NOT NULL,\n",
    "\t\"user_phone\"\tTEXT,\n",
    "\t\"creation_date\"\tTEXT NOT NULL\n",
    ")\n",
    "''')"
   ]
  },
  {
   "cell_type": "code",
   "execution_count": 8,
   "metadata": {},
   "outputs": [
    {
     "data": {
      "text/plain": [
       "<sqlite3.Cursor at 0x10defbea0>"
      ]
     },
     "execution_count": 8,
     "metadata": {},
     "output_type": "execute_result"
    }
   ],
   "source": [
    "#create venues table\n",
    "cursor.execute('''\n",
    "CREATE TABLE \"venues\" (\n",
    "\t\"venue_id\"\tINTEGER NOT NULL PRIMARY KEY AUTOINCREMENT,\n",
    "\t\"venue_name\"\tTEXT NOT NULL,\n",
    "\t\"venue_open\"\tdate,\n",
    "\t\"venue_close\"\tdate,\n",
    "\t\"zip_code\"\tTEXT NOT NULL,\n",
    "\t\"city\"\tTEXT,\n",
    "\t\"address\"\tTEXT NOT NULL\n",
    ")\n",
    "''')"
   ]
  },
  {
   "cell_type": "code",
   "execution_count": 9,
   "metadata": {},
   "outputs": [],
   "source": [
    "#create user events table\n",
    "cursor.execute('''CREATE TABLE \"user_events\" (\n",
    "\t\"user_id\"\tINTEGER NOT NULL,\n",
    "\t\"event_id\"\tINTEGER NOT NULL,\n",
    "\tFOREIGN KEY(\"user_id\") REFERENCES \"users\"(\"user_id\"),\n",
    "\tFOREIGN KEY(\"event_id\") REFERENCES \"events\"(\"event_id\"),\n",
    "\tPRIMARY KEY(\"user_id\",\"event_id\")\n",
    ")\n",
    "''')\n",
    "\n",
    "db.commit()"
   ]
  },
  {
   "cell_type": "code",
   "execution_count": 12,
   "metadata": {},
   "outputs": [],
   "source": [
    "cursor.execute('''SELECT * FROM users''')\n",
    "\n",
    "every = cursor.fetchall()\n",
    "\n",
    "for user in every:\n",
    "    print(user)"
   ]
  },
  {
   "cell_type": "code",
   "execution_count": null,
   "metadata": {},
   "outputs": [],
   "source": []
  }
 ],
 "metadata": {
  "kernelspec": {
   "display_name": "Python 3",
   "language": "python",
   "name": "python3"
  },
  "language_info": {
   "codemirror_mode": {
    "name": "ipython",
    "version": 3
   },
   "file_extension": ".py",
   "mimetype": "text/x-python",
   "name": "python",
   "nbconvert_exporter": "python",
   "pygments_lexer": "ipython3",
   "version": "3.7.3"
  }
 },
 "nbformat": 4,
 "nbformat_minor": 2
}
