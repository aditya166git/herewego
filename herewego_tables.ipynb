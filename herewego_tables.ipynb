{
 "cells": [
  {
   "cell_type": "code",
   "execution_count": null,
   "metadata": {},
   "outputs": [],
   "source": [
    "#Import sqlite\n",
    "import sqlite3"
   ]
  },
  {
   "cell_type": "code",
   "execution_count": null,
   "metadata": {},
   "outputs": [],
   "source": [
    "#import DB\n",
    "db=sqlite3.connect(\"herewegoDB.db\")"
   ]
  },
  {
   "cell_type": "code",
   "execution_count": null,
   "metadata": {},
   "outputs": [],
   "source": [
    "#create cursor\n",
    "cursor = db.cursor()"
   ]
  },
  {
   "cell_type": "code",
   "execution_count": null,
   "metadata": {},
   "outputs": [],
   "source": [
    "cursor.execute('''\n",
    "CREATE TABLE \"users\" ( \"username\" TEXT NOT NULL, \"first_name\" TEXT NOT NULL, \"last_name\" TEXT NOT NULL, \"age\" INTEGER, \"email\" TEXT NOT NULL, \"user_role\" TEXT NOT NULL, \"user_phone\" TEXT, \"creation_date\" TEXT NOT NULL, PRIMARY KEY(\"username\") )\n",
    "             ''')"
   ]
  },
  {
   "cell_type": "code",
   "execution_count": null,
   "metadata": {},
   "outputs": [],
   "source": [
    "cursor.execute('''\n",
    "CREATE TABLE \"events\" ( \"event_id\" INTEGER NOT NULL PRIMARY KEY AUTOINCREMENT, \"event_name\" TEXT NOT NULL, \"event_city\" TEXT NOT NULL, \"event_type\" TEXT, \"event_start\" TEXT NOT NULL, \"event_end\" TEXT, \"event_capacity\" INTEGER NOT NULL, \"venue_id\" INTEGER NOT NULL, \"creation_date\" TEXT NOT NULL, \"username\" TEXT NOT NULL, \"event_description\" TEXT, \"event_date\" TEXT, FOREIGN KEY(\"venue_id\") REFERENCES \"venues\"(\"venue_id\"), FOREIGN KEY(\"username\") REFERENCES \"users\"(\"username\") )\n",
    "            ''')"
   ]
  },
  {
   "cell_type": "code",
   "execution_count": null,
   "metadata": {},
   "outputs": [],
   "source": [
    "cursor.execute('''\n",
    "CREATE TABLE \"user_events\" ( \"username\" TEXT NOT NULL, \"event_id\" INTEGER NOT NULL, FOREIGN KEY(\"username\") REFERENCES \"users\"(\"username\"), FOREIGN KEY(\"event_id\") REFERENCES \"events\"(\"event_id\"), PRIMARY KEY(\"username\",\"event_id\") )\n",
    "''')"
   ]
  },
  {
   "cell_type": "code",
   "execution_count": null,
   "metadata": {},
   "outputs": [],
   "source": [
    "cursor.execute('''\n",
    "CREATE TABLE \"venues\" ( \"venue_id\" INTEGER NOT NULL PRIMARY KEY AUTOINCREMENT, \"venue_name\" TEXT NOT NULL, \"venue_open\" date, \"venue_close\" date, \"zip_code\" TEXT NOT NULL, \"city\" TEXT, \"address\" TEXT NOT NULL )\n",
    "           ''')"
   ]
  },
  {
   "cell_type": "code",
   "execution_count": null,
   "metadata": {},
   "outputs": [],
   "source": [
    "cursor.execute('''\n",
    "CREATE TABLE venue_calendar ( venue_id INTEGER NOT NULL, venue_date TEXT NOT NULL, slot_start TEXT NOT NULL, slot_end TEXT NOT NULL, is_available TEXT NOT NULL, CONSTRAINT fk_column FOREIGN KEY (\"venue_id\") REFERENCES \"venues\"(\"venue_id\") )\n",
    "''')"
   ]
  },
  {
   "cell_type": "code",
   "execution_count": null,
   "metadata": {},
   "outputs": [],
   "source": []
  }
 ],
 "metadata": {
  "kernelspec": {
   "display_name": "Python 3",
   "language": "python",
   "name": "python3"
  },
  "language_info": {
   "codemirror_mode": {
    "name": "ipython",
    "version": 3
   },
   "file_extension": ".py",
   "mimetype": "text/x-python",
   "name": "python",
   "nbconvert_exporter": "python",
   "pygments_lexer": "ipython3",
   "version": "3.7.3"
  }
 },
 "nbformat": 4,
 "nbformat_minor": 2
}
