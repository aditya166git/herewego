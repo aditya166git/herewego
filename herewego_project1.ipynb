{
 "cells": [
  {
   "cell_type": "markdown",
   "metadata": {},
   "source": [
    "# Import SQLite and Datetime Objects"
   ]
  },
  {
   "cell_type": "code",
   "execution_count": null,
   "metadata": {},
   "outputs": [],
   "source": [
    "#Import sqlite\n",
    "import sqlite3"
   ]
  },
  {
   "cell_type": "code",
   "execution_count": null,
   "metadata": {},
   "outputs": [],
   "source": [
    "#import datetime objects\n",
    "import datetime\n",
    "from datetime import time"
   ]
  },
  {
   "cell_type": "code",
   "execution_count": null,
   "metadata": {},
   "outputs": [],
   "source": [
    "#import DB\n",
    "db=sqlite3.connect(\"herewegoDB.db\")"
   ]
  },
  {
   "cell_type": "code",
   "execution_count": null,
   "metadata": {},
   "outputs": [],
   "source": [
    "#create cursor\n",
    "cursor = db.cursor()"
   ]
  },
  {
   "cell_type": "code",
   "execution_count": null,
   "metadata": {},
   "outputs": [],
   "source": [
    "#to test the connection\n",
    "cursor.execute('''select * FRom users''')\n",
    "p= cursor.fetchall()\n",
    "for j in p:\n",
    "    print(p)\n"
   ]
  },
  {
   "cell_type": "code",
   "execution_count": null,
   "metadata": {},
   "outputs": [],
   "source": [
    "#Helper function\n",
    "#determines the role of a user provided user is in the database\n",
    "def get_user_role(username):\n",
    "    role = \"\"\n",
    "    cursor.execute('''\n",
    "        SELECT user_role FROM users\n",
    "        WHERE username = ?\n",
    "        ''',\n",
    "        (username,)\n",
    "        )\n",
    "    role = cursor.fetchone()\n",
    "    if role is None:\n",
    "        return \"User '%s' is not found or user does not have a role\" %username\n",
    "    else:\n",
    "        return role[0]"
   ]
  },
  {
   "cell_type": "code",
   "execution_count": null,
   "metadata": {},
   "outputs": [],
   "source": [
    "get_user_role(\"aditya\")"
   ]
  },
  {
   "cell_type": "code",
   "execution_count": null,
   "metadata": {},
   "outputs": [],
   "source": [
    "#Helper function\n",
    "def change_event_capacity(event_name,capacity):\n",
    "    cursor.execute('''\n",
    "            UPDATE events SET event_capacity = ?\n",
    "            WHERE event_name = ?\n",
    "        ''', (capacity,event_name))\n",
    "    db.commit()\n",
    "    cursor.execute('''\n",
    "                    SELECT event_name, event_capacity \n",
    "                    FROM events WHERE event_name=?''', (event_name,))\n",
    "    event_detail = cursor.fetchone()\n",
    "    if event_detail is None:\n",
    "        return \"Event name '%s' has not been created. Please ensure the right event has been entered or created and try again\" %event_name\n",
    "    else:\n",
    "        return event_detail"
   ]
  },
  {
   "cell_type": "code",
   "execution_count": null,
   "metadata": {},
   "outputs": [],
   "source": [
    "change_event_capacity(\"singing\",1)"
   ]
  },
  {
   "cell_type": "markdown",
   "metadata": {},
   "source": [
    "# Add a User. For admin only"
   ]
  },
  {
   "cell_type": "code",
   "execution_count": null,
   "metadata": {},
   "outputs": [],
   "source": [
    "def add_user(user_account,username,first_name,last_name,age,email,user_role,user_phone):\n",
    "    try:\n",
    "        creation_date = datetime.datetime.now().strftime(\"%Y-%m-%d\")\n",
    "        if get_user_role(user_account) != 'admin':\n",
    "            return \"User %s doesn't exist or does not have appropriate permission to add other users\" %user_account\n",
    "        else:\n",
    "            cursor.execute('''\n",
    "                            INSERT INTO users\n",
    "                            VALUES(?,?,?,?,?,?,?,?)\n",
    "                ''',(username,first_name,last_name,age,email,user_role,user_phone,creation_date)\n",
    "                )\n",
    "            db.commit()\n",
    "            cursor.execute('''\n",
    "                            SELECT * FROM users\n",
    "                ''')\n",
    "            users = cursor.fetchall()\n",
    "            for user in users:\n",
    "                print(user)\n",
    "    except sqlite3.Error as e:\n",
    "        print(\"Error {\" + e.args[0] + \"}\") "
   ]
  },
  {
   "cell_type": "code",
   "execution_count": null,
   "metadata": {},
   "outputs": [],
   "source": [
    "add_user(\"darasimi\",\"bobo\",\"jon\",\"snow\",25,\"jon.snow@got.com\",\"user\",\"21597648\")"
   ]
  },
  {
   "cell_type": "code",
   "execution_count": null,
   "metadata": {},
   "outputs": [],
   "source": [
    "#Helper Function\n",
    "def fetch_venue(venue_name):\n",
    "    cursor.execute(\"SELECT * FROM venues WHERE venue_name=?\",(venue_name,))\n",
    "    all= cursor.fetchall()\n",
    "    return(all[0])\n",
    "        "
   ]
  },
  {
   "cell_type": "code",
   "execution_count": null,
   "metadata": {},
   "outputs": [],
   "source": [
    "fetch_venue('rainey')"
   ]
  },
  {
   "cell_type": "markdown",
   "metadata": {},
   "source": [
    "# Add a venue. For admin only"
   ]
  },
  {
   "cell_type": "code",
   "execution_count": null,
   "metadata": {},
   "outputs": [],
   "source": [
    "#add a venue, \n",
    "#only admin can add or update venues#added by aditya\n",
    "\n",
    "def add_venue(user_account,venue_name,venue_open,venue_close,zip_code,city,address):\n",
    "    user_role = get_user_role(user_account)\n",
    "    try:\n",
    "        if user_role!='admin':\n",
    "            return \"You do not have rights to create or update venues\"\n",
    "        else:            \n",
    "            cursor.execute('''\n",
    "            insert into venues(venue_name,venue_open,venue_close,zip_code,city,address)\n",
    "            values(?,?,?,?,?,?)\n",
    "            ''',(venue_name,venue_open,venue_close,zip_code,city,address))\n",
    "            db.commit()\n",
    "            cursor.execute(\"SELECT * FROM venues WHERE venue_name=?\",(venue_name,))\n",
    "            all_venues = cursor.fetchall()\n",
    "            for p in all_venues:\n",
    "                print(p)\n",
    "            \n",
    "    except sqlite3.Error as e:\n",
    "         print(\"Error {\" + e.args[0] + \"}\")\n",
    "        "
   ]
  },
  {
   "cell_type": "code",
   "execution_count": null,
   "metadata": {},
   "outputs": [],
   "source": [
    "add_venue('aditya',\"Rutwicks House\",'8:00','20:00',\"78751\",\"Austin\",\"31156 Helms Street\")"
   ]
  },
  {
   "cell_type": "markdown",
   "metadata": {},
   "source": [
    "# List events at a venue given the date/time"
   ]
  },
  {
   "cell_type": "code",
   "execution_count": null,
   "metadata": {},
   "outputs": [],
   "source": [
    "#List events at a venue by date/time\n",
    "def display_venue_events(venue_id,event_date,event_start):\n",
    "    try:\n",
    "        cursor.execute('''select v.venue_name,e.event_name,e.event_description,e.event_capacity,e.event_start,e.event_end from events e, venues v where e.venue_id = v.venue_id \n",
    "        and e.venue_id = ? and e.event_date = ? and e.event_start = ?\n",
    "        ''',(venue_id,event_date,event_start,))\n",
    "        venues = cursor.fetchall()\n",
    "        if not venues or venues is None:\n",
    "            print(\"No events scheduled at the venue\")\n",
    "        else:\n",
    "            print(venues)\n",
    "    except sqlite3.Error as e:\n",
    "        print(\"Error {\" + e.args[0] + \"}\")\n",
    "            \n",
    "\n"
   ]
  },
  {
   "cell_type": "code",
   "execution_count": null,
   "metadata": {},
   "outputs": [],
   "source": [
    "display_venue_events(2,\"2019-09-21\",\"09:00\")"
   ]
  },
  {
   "cell_type": "code",
   "execution_count": null,
   "metadata": {},
   "outputs": [],
   "source": [
    "#Helper function\n",
    "#check current event capacity # added by aditya\n",
    "#it accepts event_id as the input and returns the current event capacity\n",
    "def check_capacity(event_id):\n",
    "    try:\n",
    "        cursor.execute('''select event_capacity FRom events\n",
    "                       where event_id = ?\n",
    "                       ''',(event_id,))\n",
    "        current_cap = cursor.fetchone()\n",
    "        return (current_cap[0])\n",
    "    except sqlite3.Error as e:\n",
    "        print(\"Error {\" + e.args[0] + \"}\")"
   ]
  },
  {
   "cell_type": "code",
   "execution_count": null,
   "metadata": {},
   "outputs": [],
   "source": [
    "check_capacity(2)"
   ]
  },
  {
   "cell_type": "markdown",
   "metadata": {},
   "source": [
    "# A user joins an event"
   ]
  },
  {
   "cell_type": "code",
   "execution_count": null,
   "metadata": {},
   "outputs": [],
   "source": [
    "# Function implemented to join an event.\n",
    "# added by aditya. It accepts the user id and event id as input\n",
    "def join_event(username,event_id):\n",
    "    msg = \"sucess\"    \n",
    "    try:\n",
    "        event_cap = check_capacity(event_id)\n",
    "        if event_cap >0:\n",
    "            #print Make entry into user events table and reduce the flag count\n",
    "            cursor.execute('''select username from users where username=?\n",
    "                        ''',(username,))\n",
    "            user_result = cursor.fetchone()\n",
    "            username = user_result[0]\n",
    "            #make entries into the user events table\n",
    "            cursor.execute('''insert into user_events(username,event_id)\n",
    "                              values(?,?)''',(username,event_id,))\n",
    "            #increase the event capacity count            \n",
    "            cursor.execute('''update events set event_capacity=event_capacity-1 \n",
    "                           where event_id = ?\n",
    "                           ''',(event_id,))\n",
    "            db.commit()\n",
    "            return msg\n",
    "            \n",
    "        else:\n",
    "            print (\"Please join later\")\n",
    "    except sqlite3.Error as e:\n",
    "        print(\"Error {\" + e.args[0] + \"}\")\n",
    "        "
   ]
  },
  {
   "cell_type": "code",
   "execution_count": null,
   "metadata": {},
   "outputs": [],
   "source": [
    "join_event(\"jane\",2)"
   ]
  },
  {
   "cell_type": "markdown",
   "metadata": {},
   "source": [
    "# Admin removes an event"
   ]
  },
  {
   "cell_type": "code",
   "execution_count": null,
   "metadata": {},
   "outputs": [],
   "source": [
    "#remove an event. Added by Aditya # this feature only lets the admin remove an event.\n",
    "# it accepts the event id and username as input.\n",
    "# Steps:\n",
    "# 1. Delete the entries from user_events table\n",
    "# 2. Delete the entries from the events table\n",
    "\n",
    "\n",
    "def remove_event(event_id,username):\n",
    "    msg = \"Event Succesfully Deleted\"\n",
    "    try:\n",
    "              \n",
    "        if get_user_role(username)==\"admin\":\n",
    "            cursor.execute('''delete from user_events where event_id =?\n",
    "                           ''',(event_id,))\n",
    "            cursor.execute('''delete from events where event_id =?\n",
    "                           ''',(event_id,))\n",
    "            db.commit()\n",
    "            return msg\n",
    "        else:\n",
    "            print(\"You are not authorized to perform this action\")\n",
    "    \n",
    "    except sqlite3.Error as e:\n",
    "        print(\"Error {\" + e.args[0] + \"}\")\n",
    "\n",
    "\n",
    "\n"
   ]
  },
  {
   "cell_type": "code",
   "execution_count": null,
   "metadata": {},
   "outputs": [],
   "source": [
    "remove_event(5,\"darasimi\")"
   ]
  },
  {
   "cell_type": "code",
   "execution_count": null,
   "metadata": {},
   "outputs": [],
   "source": [
    "#Helper function\n",
    "#User opts out of an event. Added by Aditya # this feature allows the users to exit an event.\n",
    "#1. This should remove the user entry from the user_events table for a particular event\n",
    "#2. Event capacity should be increased by one everytime a user quits an event.\n",
    "def quit_event(username,event_id):\n",
    "    msg = \"User removed from the event succesfully\"\n",
    "    \n",
    "    try:\n",
    "        cursor.execute('''select username From users where username = ?\n",
    "                      ''',(username,))\n",
    "        user_result = cursor.fetchone()\n",
    "        username = user_result[0]\n",
    "        \n",
    "        \n",
    "        cursor.execute('''delete from user_events where username =?\n",
    "                       ''',(username,))\n",
    "        \n",
    "        cursor.execute('''update events set event_capacity=event_capacity+1\n",
    "                       where event_id =?\n",
    "                       ''',(event_id,))\n",
    "        db.commit()\n",
    "        return msg\n",
    "        \n",
    "    except sqlite3.Error as e:\n",
    "        print(\"Error {\"+ e.args[0] +\"}\")"
   ]
  },
  {
   "cell_type": "code",
   "execution_count": null,
   "metadata": {},
   "outputs": [],
   "source": [
    "quit_event(\"jane\",2)"
   ]
  },
  {
   "cell_type": "code",
   "execution_count": null,
   "metadata": {},
   "outputs": [],
   "source": [
    "#Helper function\n",
    "#Check if a venue is available at a given date and time slot. Any user or admin can call this function.\n",
    "#If the slot is available it returns boolean value True else returns False.\n",
    "#Version 1.0 created by Aditya\n",
    "\n",
    "def venue_availables(venue_id,venue_date,start_time): \n",
    "    try: \n",
    "        cursor.execute('''SELECT v.venue_name,vc.slot_start,vc.slot_end,vc.is_available,v.zip_code,v.city,v.address\n",
    "        FROM venue_calendar vc,venues v WHERE vc.is_available = 'Y' and vc.venue_id = v.venue_id and\n",
    "        vc.venue_id=?  and vc.venue_date = ? and vc.slot_start =?\n",
    "        ''',(venue_id,venue_date,start_time,))\n",
    "        result = cursor.fetchone()\n",
    "        #print(result[0])\n",
    "        if  result is None:\n",
    "            return False\n",
    "        else:\n",
    "            return True\n",
    "            \n",
    "    except sqlite3.Error as e:\n",
    "        print(\"Error {\"+ e.args[0] +\"}\")\n",
    "\n"
   ]
  },
  {
   "cell_type": "code",
   "execution_count": null,
   "metadata": {
    "scrolled": true
   },
   "outputs": [],
   "source": [
    "venue_available(2,\"2019-07-29\",\"1:00\")"
   ]
  },
  {
   "cell_type": "code",
   "execution_count": null,
   "metadata": {},
   "outputs": [],
   "source": [
    "#Helper function\n",
    "#Function that adds an hour to an exisiting hour specificed\n",
    "def add_hour(start_time):\n",
    "    hour = start_time.split(':')[0]\n",
    "    minute = start_time.split(':')[1]\n",
    "    hour_int = int(hour)\n",
    "    minute_int = int(minute)\n",
    "    hour_int_end = (hour_int+1) if hour_int < 23 else 0 \n",
    "    end_time = time(hour_int_end,minute_int)\n",
    "    end_time_final = end_time.strftime(\"%H:%M\")\n",
    "    return end_time_final"
   ]
  },
  {
   "cell_type": "code",
   "execution_count": null,
   "metadata": {},
   "outputs": [],
   "source": [
    "print(add_hour(\"23:00\"))"
   ]
  },
  {
   "cell_type": "code",
   "execution_count": null,
   "metadata": {},
   "outputs": [],
   "source": [
    "#Helper function\n",
    "#Checks if a particular venue is available with a given venue id, start time and Date of event\n",
    "def venue_available(venue_id,start_time,event_date):\n",
    "    try:\n",
    "        cursor.execute('''\n",
    "                        SELECT venue_id\n",
    "                        FROM venue_calendar\n",
    "                        WHERE venue_id = ? AND slot_start = ? AND venue_date = ?\n",
    "        ''',(venue_id,start_time,event_date))\n",
    "        \n",
    "        result = cursor.fetchone()\n",
    "        if result is None:\n",
    "            return True\n",
    "        else:\n",
    "            return False\n",
    "    except sqlite3.Error as e:\n",
    "            print(\"Error {\" + e.args[0] + \"}\")\n",
    "    "
   ]
  },
  {
   "cell_type": "code",
   "execution_count": null,
   "metadata": {},
   "outputs": [],
   "source": [
    "venue_available(2,\"09:00\",\"2019-09-21\")"
   ]
  },
  {
   "cell_type": "markdown",
   "metadata": {},
   "source": [
    "# A user starts/creates an event"
   ]
  },
  {
   "cell_type": "code",
   "execution_count": null,
   "metadata": {},
   "outputs": [],
   "source": [
    "#Functionality to create or start an event. Once event is created its added to the events_table and calendar.\n",
    "def start_event(name,city,event_type,start_time,capacity,venue_id,username,description,event_date):\n",
    "    try:\n",
    "        end_time = add_hour(start_time)\n",
    "        creation_date = datetime.datetime.now().strftime(\"%Y-%m-%d\")\n",
    "        not_available = \"N\"\n",
    "        if venue_available(venue_id,start_time,event_date):\n",
    "            cursor.execute('''\n",
    "                INSERT INTO events(event_name,event_city,event_type,event_start,event_end,event_capacity,venue_id,creation_date,username,event_description,event_date)\n",
    "                VALUES(?,?,?,?,?,?,?,?,?,?,?)                         \n",
    "                ''',(name,city,event_type,start_time,end_time,capacity,venue_id,creation_date,username,description,event_date))\n",
    "            cursor.execute('''\n",
    "                            INSERT INTO venue_calendar(venue_id,venue_date,slot_start,slot_end,is_available)\n",
    "                            VALUES(?,?,?,?,?)                     \n",
    "            ''',(venue_id,event_date,start_time,end_time,not_available))\n",
    "            db.commit()\n",
    "            cursor.execute('''SELECT * FROM events WHERE event_name = ?''', (name,))\n",
    "            events = cursor.fetchall()\n",
    "            for event in events:\n",
    "                print(event)\n",
    "        else:\n",
    "            return \"Event '%s' for %s on %s is not available. Please pick a different time\" %(name,start_time,event_date)\n",
    "    except sqlite3.Error as e:\n",
    "        print(\"Error {\"+ e.args[0] +\"}\")  "
   ]
  },
  {
   "cell_type": "code",
   "execution_count": null,
   "metadata": {},
   "outputs": [],
   "source": [
    "start_event(\"soccer for life\",\"Austin\",\"soccer\",\"09:00\",25,2,\"stevendar\",\"if you like to have fun\",\"2019-09-22\")"
   ]
  },
  {
   "cell_type": "markdown",
   "metadata": {},
   "source": [
    "# Displays all the venues where a particular time slot is available on a given date"
   ]
  },
  {
   "cell_type": "code",
   "execution_count": null,
   "metadata": {},
   "outputs": [],
   "source": [
    "#Displays all the venues where a particular time slot is available.\n",
    "#Paramneters are the start time you would like the event to be and the Date of the event you are looking to book for\n",
    "def timeslot_availability(start_time,event_date):\n",
    "    try:\n",
    "        cursor.execute('''\n",
    "                SELECT v.venue_name\n",
    "                FROM venues v\n",
    "                WHERE NOT EXISTS (SELECT e.venue_id FROM events e WHERE v.venue_id = e.venue_id \n",
    "                AND e.event_start = ? AND e.event_date = ? ) AND v.venue_open <= strftime('%H:%M',?)\n",
    "                AND v.venue_close >= strftime('%H:%M',?) \n",
    "                \n",
    "        ''',(start_time,event_date,start_time,start_time))\n",
    "        results = cursor.fetchall()\n",
    "        if results:\n",
    "            for result in results:\n",
    "                print(result)\n",
    "        else:\n",
    "            print(\"There's no venue available for this time slot\")\n",
    "    except sqlite3.Error as e:\n",
    "        print(\"Error {\"+ e.args[0] +\"}\")"
   ]
  },
  {
   "cell_type": "code",
   "execution_count": null,
   "metadata": {},
   "outputs": [],
   "source": [
    "timeslot_availability(\"09:00\",\"2019-09-21\")"
   ]
  },
  {
   "cell_type": "code",
   "execution_count": null,
   "metadata": {},
   "outputs": [],
   "source": [
    "#Helper function\n",
    "#Time gap function that returns the range of times between a start and end date. Source of reference(\"https://stackoverflow.com/questions/40815648/get-all-the-times-in-between-two-datetime-in-list\")\n",
    "def time_gap(event_start,event_end):\n",
    "    reserved_time = []\n",
    "    available_time = []\n",
    "    fmt = '%H:%M'\n",
    "    strp_a = datetime.datetime.strptime(event_start,fmt)\n",
    "    strp_b = datetime.datetime.strptime(event_end,fmt) \n",
    "    while strp_a <= strp_b:\n",
    "        available_time.append(str(strp_a))\n",
    "        strp_a += datetime.timedelta(hours=1)\n",
    "    for time in available_time:\n",
    "        val = datetime.datetime.strptime(time, '%Y-%m-%d %H:%M:%S')\n",
    "        time = val.strftime(\"%H:%M\")\n",
    "        reserved_time.append(time)\n",
    "    return reserved_time\n",
    "        \n",
    "    "
   ]
  },
  {
   "cell_type": "markdown",
   "metadata": {},
   "source": [
    "# Displays timeslot availability at a particular venue on a given date\n"
   ]
  },
  {
   "cell_type": "code",
   "execution_count": null,
   "metadata": {},
   "outputs": [],
   "source": [
    "#Functionality to display timeslot at a particular venue. Parameters are Venue ID and Date of Event\n",
    "def venue_timeslot(venue_id,event_date):\n",
    "    try:\n",
    "        all_dates =[]\n",
    "        cursor.execute('''\n",
    "                SELECT venue_open FROM venues\n",
    "                WHERE venue_id = ?\n",
    "        ''',(venue_id,))\n",
    "        open_time = cursor.fetchone()\n",
    "        \n",
    "        cursor.execute('''\n",
    "                SELECT venue_close FROM venues\n",
    "                WHERE venue_id = ?\n",
    "        ''',(venue_id,))\n",
    "        \n",
    "        end_time = cursor.fetchone()\n",
    "        \n",
    "        start_time = open_time[0]\n",
    "        close_time = end_time[0]\n",
    "\n",
    "        cursor.execute('''\n",
    "                SELECT event_start FROM events e, venues v\n",
    "                WHERE e.venue_id = ? AND e.event_date = ? AND e.venue_id = v.venue_id\n",
    "        ''',(venue_id,event_date))\n",
    "\n",
    "        reserved_dates = cursor.fetchall()\n",
    "        \n",
    "        for dates in reserved_dates:\n",
    "            all_dates.append(dates[0])\n",
    "            \n",
    "        venue_hours = time_gap(start_time,close_time)\n",
    "        if reserved_dates:\n",
    "            main_list = [item for item in venue_hours if item not in all_dates ]\n",
    "            return main_list\n",
    "        else:\n",
    "            return venue_hours\n",
    "    except TypeError as t:\n",
    "        print(\"Venue does exist, please check venue and try again\")\n",
    "    \n",
    "    except sqlite3.Error as e:\n",
    "        print(\"Error {\"+ e.args[0] +\"}\")\n",
    "    \n",
    "    \n",
    "    \n",
    "    "
   ]
  },
  {
   "cell_type": "code",
   "execution_count": null,
   "metadata": {},
   "outputs": [],
   "source": [
    "venue_timeslot(2,\"2019-09-22\")"
   ]
  },
  {
   "cell_type": "code",
   "execution_count": null,
   "metadata": {},
   "outputs": [],
   "source": [
    "db.close()"
   ]
  },
  {
   "cell_type": "code",
   "execution_count": null,
   "metadata": {},
   "outputs": [],
   "source": []
  }
 ],
 "metadata": {
  "kernelspec": {
   "display_name": "Python 3",
   "language": "python",
   "name": "python3"
  },
  "language_info": {
   "codemirror_mode": {
    "name": "ipython",
    "version": 3
   },
   "file_extension": ".py",
   "mimetype": "text/x-python",
   "name": "python",
   "nbconvert_exporter": "python",
   "pygments_lexer": "ipython3",
   "version": "3.7.3"
  }
 },
 "nbformat": 4,
 "nbformat_minor": 2
}
